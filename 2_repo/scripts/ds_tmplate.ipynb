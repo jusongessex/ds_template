{
 "cells": [
  {
   "cell_type": "markdown",
   "id": "9fbd14b3",
   "metadata": {},
   "source": [
    "# Table of Content:\n",
    "* [0 Introduction](#0b)\n",
    "* 1 Prepare Notebook\n",
    "    * [1.1 Load Packages](#1.1b)\n",
    "    * [1.2 Load Functions](#1.2b)\n",
    "* 2 Prepare Data\n",
    "    * [2.1 Load Data](#2.1b)\n",
    "    * [2.2 Preprocess Data](#2.2b)\n",
    "* 3 Exploratory Data Analysis\n",
    "    * [3.1 EDA](#3.1b)\n",
    "    * [3.2 Process Data](#3.2b)\n",
    "* 4 Build Model\n",
    "    * [4.1 Model 1](#4.1b)\n",
    "    * [4.2 Model 2](#4.2b)\n",
    "* 5 Visualization/Output\n",
    "    * [5.1 Visualization](#5.1b)"
   ]
  },
  {
   "cell_type": "markdown",
   "id": "56dab482",
   "metadata": {},
   "source": [
    "## 0 Introduction <a class=\"anchor\" id=\"0b\"></a>"
   ]
  },
  {
   "cell_type": "markdown",
   "id": "5ce866cd",
   "metadata": {},
   "source": [
    "\"\n",
    "Purpose of this notebook is to build classification model to predict lease renewal rate.\n",
    "\""
   ]
  },
  {
   "cell_type": "markdown",
   "id": "89511eb4",
   "metadata": {},
   "source": [
    "# 1 Prepare Notebook"
   ]
  },
  {
   "cell_type": "markdown",
   "id": "b9eccbfe",
   "metadata": {},
   "source": [
    "## 1.1 Load Packages <a class=\"anchor\" id=\"1.1b\"></a>"
   ]
  },
  {
   "cell_type": "code",
   "execution_count": 22,
   "id": "492eefe4",
   "metadata": {},
   "outputs": [],
   "source": [
    "import sys\n",
    "from os.path import abspath, join\n",
    "\n",
    "p = abspath('..')\n",
    "if p not in sys.path:\n",
    "    sys.path.insert(0,p)"
   ]
  },
  {
   "cell_type": "code",
   "execution_count": 23,
   "id": "5f546eea",
   "metadata": {},
   "outputs": [],
   "source": [
    "import numpy as np\n",
    "import pandas as pd\n",
    "from utils.util import sqlConn"
   ]
  },
  {
   "cell_type": "markdown",
   "id": "6395ca27",
   "metadata": {},
   "source": [
    "## 1.2 Load Functions <a class=\"anchor\" id=\"1.2b\"></a>"
   ]
  },
  {
   "cell_type": "code",
   "execution_count": 21,
   "id": "7d1529d4",
   "metadata": {},
   "outputs": [],
   "source": [
    "def user_func():\n",
    "    return"
   ]
  },
  {
   "cell_type": "markdown",
   "id": "6c1af383",
   "metadata": {},
   "source": [
    "# 2 Prepare Data"
   ]
  },
  {
   "cell_type": "markdown",
   "id": "56234356",
   "metadata": {},
   "source": [
    "## 2.1 Load Data <a class=\"anchor\" id=\"2.1b\"></a>"
   ]
  },
  {
   "cell_type": "code",
   "execution_count": null,
   "id": "7a47a8e6",
   "metadata": {},
   "outputs": [],
   "source": [
    "# Import Property Dimension\n",
    "database = 'Dimensions'\n",
    "\n",
    "query = \"\"\"\n",
    "    SELECT *\n",
    "    FROM Property\n",
    "\"\"\"\n",
    "\n",
    "df = sqlConn(Database=database, Query=query)\n",
    "df.head(1)"
   ]
  },
  {
   "cell_type": "markdown",
   "id": "1dc8d25a",
   "metadata": {},
   "source": [
    "## 2.2 Preprocess Data <a class=\"anchor\" id=\"2.2b\"></a>"
   ]
  },
  {
   "cell_type": "code",
   "execution_count": null,
   "id": "1cd13868",
   "metadata": {},
   "outputs": [],
   "source": []
  },
  {
   "cell_type": "code",
   "execution_count": null,
   "id": "984b168a",
   "metadata": {},
   "outputs": [],
   "source": []
  },
  {
   "cell_type": "markdown",
   "id": "73501747",
   "metadata": {},
   "source": [
    "# 3 Exploratory Data Analysis"
   ]
  },
  {
   "cell_type": "markdown",
   "id": "e938fd30",
   "metadata": {},
   "source": [
    "## 3.1 EDA <a class=\"anchor\" id=\"3.1b\"></a>"
   ]
  },
  {
   "cell_type": "code",
   "execution_count": null,
   "id": "804517b1",
   "metadata": {},
   "outputs": [],
   "source": []
  },
  {
   "cell_type": "markdown",
   "id": "37eced70",
   "metadata": {},
   "source": [
    "## 3.2 Process Data <a class=\"anchor\" id=\"3.2b\"></a>"
   ]
  },
  {
   "cell_type": "markdown",
   "id": "595c901a",
   "metadata": {},
   "source": [
    "# 4 Build Model"
   ]
  },
  {
   "cell_type": "markdown",
   "id": "429b2e6d",
   "metadata": {},
   "source": [
    "## 4.1 Model 1 <a class=\"anchor\" id=\"4.1b\"></a>"
   ]
  },
  {
   "cell_type": "code",
   "execution_count": null,
   "id": "1d22c1aa",
   "metadata": {},
   "outputs": [],
   "source": []
  },
  {
   "cell_type": "markdown",
   "id": "f89e42ed",
   "metadata": {},
   "source": [
    "## 4.2 Model 2 <a class=\"anchor\" id=\"4.2b\"></a>"
   ]
  },
  {
   "cell_type": "code",
   "execution_count": null,
   "id": "5acb89a4",
   "metadata": {},
   "outputs": [],
   "source": []
  },
  {
   "cell_type": "markdown",
   "id": "64699b49",
   "metadata": {},
   "source": [
    "# 5 Visualization/Output"
   ]
  },
  {
   "cell_type": "markdown",
   "id": "fdc863c1",
   "metadata": {},
   "source": [
    "## 5.1 Visualization <a class=\"anchor\" id=\"5.1b\"></a>"
   ]
  },
  {
   "cell_type": "code",
   "execution_count": null,
   "id": "e6e6a0c4",
   "metadata": {},
   "outputs": [],
   "source": []
  }
 ],
 "metadata": {
  "kernelspec": {
   "display_name": "Python 3 (ipykernel)",
   "language": "python",
   "name": "python3"
  },
  "language_info": {
   "codemirror_mode": {
    "name": "ipython",
    "version": 3
   },
   "file_extension": ".py",
   "mimetype": "text/x-python",
   "name": "python",
   "nbconvert_exporter": "python",
   "pygments_lexer": "ipython3",
   "version": "3.9.7"
  }
 },
 "nbformat": 4,
 "nbformat_minor": 5
}
